{
 "cells": [
  {
   "cell_type": "code",
   "execution_count": 1,
   "id": "357e540e-a7f4-4e6f-b7e6-987e05e02a7e",
   "metadata": {},
   "outputs": [],
   "source": [
    "import numpy as np\n",
    "import time"
   ]
  },
  {
   "cell_type": "code",
   "execution_count": 4,
   "id": "fc1bb883-a732-4a5b-a06c-eb1139c72648",
   "metadata": {},
   "outputs": [
    {
     "name": "stdout",
     "output_type": "stream",
     "text": [
      "a = [0. 0. 0. 0.]  and length is 4\n",
      "a = [0. 0. 0. 0.] and length is 4\n",
      "a = [0.12461322 0.5518673  0.14983083 0.66201565] and length is 4\n"
     ]
    }
   ],
   "source": [
    "a = np.zeros(4);\n",
    "print(f\"a = {a}  and length is {len(a)}\");\n",
    "a = np.zeros((4, ))\n",
    "print(f\"a = {a} and length is {len(a)}\")\n",
    "a = np.random.random_sample(4)\n",
    "print(f\"a = {a} and length is {len(a)}\")"
   ]
  },
  {
   "cell_type": "code",
   "execution_count": 13,
   "id": "16dd625e-3b0a-42ad-af64-7d9ba06c0256",
   "metadata": {},
   "outputs": [
    {
     "name": "stdout",
     "output_type": "stream",
     "text": [
      "() 9\n"
     ]
    }
   ],
   "source": [
    "a = np.arange(10)\n",
    "print(a[2].shape, a[9])"
   ]
  },
  {
   "cell_type": "code",
   "execution_count": 14,
   "id": "fe9c0d81-832c-486b-bbbf-f1b68672f11e",
   "metadata": {},
   "outputs": [
    {
     "name": "stdout",
     "output_type": "stream",
     "text": [
      "[0 1 2 3 4 5 6 7 8 9]\n"
     ]
    }
   ],
   "source": [
    "print(a)"
   ]
  },
  {
   "cell_type": "code",
   "execution_count": 18,
   "id": "7c8eb690-fc9c-40ba-bd96-5596df7ec14a",
   "metadata": {},
   "outputs": [
    {
     "name": "stdout",
     "output_type": "stream",
     "text": [
      "[9 8 7 6 5 4 3 2 1 0]\n"
     ]
    }
   ],
   "source": [
    "print(a[::-1])"
   ]
  },
  {
   "cell_type": "code",
   "execution_count": 20,
   "id": "29a7506f-3789-4095-90f5-d38b6eb4d9f8",
   "metadata": {},
   "outputs": [
    {
     "name": "stdout",
     "output_type": "stream",
     "text": [
      "[ 0 -1 -2 -3 -4 -5 -6 -7 -8 -9] 45 4.5 [ 0  1  4  9 16 25 36 49 64 81]\n"
     ]
    }
   ],
   "source": [
    "print(-a, np.sum(a), np.mean(a), a**2)"
   ]
  },
  {
   "cell_type": "code",
   "execution_count": 23,
   "id": "479af44c-2635-4abe-ac3d-51b765b2bba5",
   "metadata": {},
   "outputs": [
    {
     "name": "stdout",
     "output_type": "stream",
     "text": [
      "24 ()\n",
      "24 ()\n"
     ]
    }
   ],
   "source": [
    "a = np.array([1, 2, 3, 4])\n",
    "b = np.array([-1, 4, 3, 2])\n",
    "c = np.dot(a, b)\n",
    "print(c, c.shape)\n",
    "c = np.dot(b, a)\n",
    "print(c, c.shape)"
   ]
  },
  {
   "cell_type": "code",
   "execution_count": null,
   "id": "f32ae622-56ac-494e-8924-3655ed72a9e4",
   "metadata": {},
   "outputs": [],
   "source": []
  }
 ],
 "metadata": {
  "kernelspec": {
   "display_name": "Python 3 (ipykernel)",
   "language": "python",
   "name": "python3"
  },
  "language_info": {
   "codemirror_mode": {
    "name": "ipython",
    "version": 3
   },
   "file_extension": ".py",
   "mimetype": "text/x-python",
   "name": "python",
   "nbconvert_exporter": "python",
   "pygments_lexer": "ipython3",
   "version": "3.10.6"
  }
 },
 "nbformat": 4,
 "nbformat_minor": 5
}
